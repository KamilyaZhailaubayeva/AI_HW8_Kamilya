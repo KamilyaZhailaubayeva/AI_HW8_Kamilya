{
  "nbformat": 4,
  "nbformat_minor": 0,
  "metadata": {
    "colab": {
      "provenance": [],
      "gpuType": "T4"
    },
    "kernelspec": {
      "name": "python3",
      "display_name": "Python 3"
    },
    "language_info": {
      "name": "python"
    },
    "accelerator": "GPU"
  },
  "cells": [
    {
      "cell_type": "markdown",
      "source": [
        "### **Kamilya Zhailaubayeva HW8**"
      ],
      "metadata": {
        "id": "-K2Toe7LZNu6"
      }
    },
    {
      "cell_type": "code",
      "source": [
        "import pandas as pd\n",
        "import numpy as np\n",
        "import matplotlib.pyplot as plt\n",
        "\n",
        "%matplotlib inline"
      ],
      "metadata": {
        "id": "sAb3Q0F4ZNBd"
      },
      "execution_count": null,
      "outputs": []
    },
    {
      "cell_type": "code",
      "source": [
        "from google.colab import drive\n",
        "drive.mount('/content/drive')"
      ],
      "metadata": {
        "id": "ZcpqQ5QiZMzh",
        "colab": {
          "base_uri": "https://localhost:8080/"
        },
        "outputId": "8087fe3b-d928-48fc-bd54-cf220531bcf2"
      },
      "execution_count": null,
      "outputs": [
        {
          "output_type": "stream",
          "name": "stdout",
          "text": [
            "Mounted at /content/drive\n"
          ]
        }
      ]
    },
    {
      "cell_type": "code",
      "source": [
        "from tensorflow.keras.preprocessing.image import ImageDataGenerator"
      ],
      "metadata": {
        "id": "zB5lU8nlRdBs"
      },
      "execution_count": null,
      "outputs": []
    },
    {
      "cell_type": "code",
      "source": [
        "train_gen1 = ImageDataGenerator(rescale=1./255)\n",
        "\n",
        "train_generator1 = train_gen1.flow_from_directory(\n",
        "    '/content/drive/MyDrive/HW8_AI_Kamilya/train',\n",
        "    target_size=(150, 150),\n",
        "    batch_size=20,\n",
        "    shuffle=True,\n",
        "    class_mode='binary'\n",
        ")"
      ],
      "metadata": {
        "id": "XEp57RdNGR_E",
        "colab": {
          "base_uri": "https://localhost:8080/"
        },
        "outputId": "6223923a-f973-4911-9e58-c1e130a055b5"
      },
      "execution_count": null,
      "outputs": [
        {
          "output_type": "stream",
          "name": "stdout",
          "text": [
            "Found 1594 images belonging to 2 classes.\n"
          ]
        }
      ]
    },
    {
      "cell_type": "code",
      "source": [
        "X, y = next(train_generator1)"
      ],
      "metadata": {
        "id": "k-D8ij8GGf8D"
      },
      "execution_count": null,
      "outputs": []
    },
    {
      "cell_type": "code",
      "source": [
        "X.shape"
      ],
      "metadata": {
        "id": "msF-_v5hGiiy",
        "colab": {
          "base_uri": "https://localhost:8080/"
        },
        "outputId": "b96ddc65-f0f5-4382-c6dd-b25dc8c7c567"
      },
      "execution_count": null,
      "outputs": [
        {
          "output_type": "execute_result",
          "data": {
            "text/plain": [
              "(20, 150, 150, 3)"
            ]
          },
          "metadata": {},
          "execution_count": 7
        }
      ]
    },
    {
      "cell_type": "code",
      "source": [
        "train_generator1.class_indices"
      ],
      "metadata": {
        "id": "Ll01IAw0Gl8j",
        "colab": {
          "base_uri": "https://localhost:8080/"
        },
        "outputId": "d1b85331-8534-4e71-cd92-8d1ce5c33fb5"
      },
      "execution_count": null,
      "outputs": [
        {
          "output_type": "execute_result",
          "data": {
            "text/plain": [
              "{'dino': 0, 'dragon': 1}"
            ]
          },
          "metadata": {},
          "execution_count": 8
        }
      ]
    },
    {
      "cell_type": "code",
      "source": [
        "test_gen = ImageDataGenerator(rescale=1./255)\n",
        "\n",
        "test_generator = test_gen.flow_from_directory(\n",
        "    '/content/drive/MyDrive/HW8_AI_Kamilya/test',\n",
        "    target_size=(150, 150),\n",
        "    batch_size=20,\n",
        "    shuffle=True,\n",
        "    class_mode='binary'\n",
        ")"
      ],
      "metadata": {
        "id": "mbu6vBUCGouf",
        "colab": {
          "base_uri": "https://localhost:8080/"
        },
        "outputId": "cb5b16cb-4e68-46e7-a592-ad780fa49492"
      },
      "execution_count": null,
      "outputs": [
        {
          "output_type": "stream",
          "name": "stdout",
          "text": [
            "Found 394 images belonging to 2 classes.\n"
          ]
        }
      ]
    },
    {
      "cell_type": "code",
      "source": [
        "from tensorflow.keras import models\n",
        "from tensorflow.keras import layers"
      ],
      "metadata": {
        "id": "T40CV4SNCLjb"
      },
      "execution_count": null,
      "outputs": []
    },
    {
      "cell_type": "code",
      "source": [
        "filters = 32\n",
        "kernel_size = (3, 3)\n",
        "\n",
        "model = models.Sequential()\n",
        "model.add(layers.Conv2D(filters, kernel_size, activation = 'relu', input_shape=(150, 150, 3)))\n",
        "model.add(layers.MaxPooling2D(pool_size=(2, 2)))\n",
        "model.add(layers.Flatten())\n",
        "model.add(layers.Dense(64, activation = 'relu'))\n",
        "model.add(layers.Dense(1, activation = 'sigmoid'))"
      ],
      "metadata": {
        "id": "v8lYwnK4DWQC"
      },
      "execution_count": null,
      "outputs": []
    },
    {
      "cell_type": "code",
      "source": [
        "import tensorflow.keras"
      ],
      "metadata": {
        "id": "upYtYszUU3_a"
      },
      "execution_count": null,
      "outputs": []
    },
    {
      "cell_type": "code",
      "source": [
        "loss = tensorflow.keras.losses.BinaryCrossentropy()\n",
        "optimizer = tensorflow.keras.optimizers.SGD(learning_rate=0.002, momentum=0.8)\n",
        "\n",
        "model.compile(\n",
        "    loss = loss,\n",
        "    optimizer = optimizer,\n",
        "    metrics=['accuracy']\n",
        ")"
      ],
      "metadata": {
        "id": "50mU3654Txuv"
      },
      "execution_count": null,
      "outputs": []
    },
    {
      "cell_type": "code",
      "source": [
        "print(model.summary())"
      ],
      "metadata": {
        "id": "3HGuBId6QrOj",
        "colab": {
          "base_uri": "https://localhost:8080/"
        },
        "outputId": "3908cfe8-37b5-434d-9188-e27fd58d2c83"
      },
      "execution_count": null,
      "outputs": [
        {
          "output_type": "stream",
          "name": "stdout",
          "text": [
            "Model: \"sequential\"\n",
            "_________________________________________________________________\n",
            " Layer (type)                Output Shape              Param #   \n",
            "=================================================================\n",
            " conv2d (Conv2D)             (None, 148, 148, 32)      896       \n",
            "                                                                 \n",
            " max_pooling2d (MaxPooling2  (None, 74, 74, 32)        0         \n",
            " D)                                                              \n",
            "                                                                 \n",
            " flatten (Flatten)           (None, 175232)            0         \n",
            "                                                                 \n",
            " dense (Dense)               (None, 64)                11214912  \n",
            "                                                                 \n",
            " dense_1 (Dense)             (None, 1)                 65        \n",
            "                                                                 \n",
            "=================================================================\n",
            "Total params: 11215873 (42.79 MB)\n",
            "Trainable params: 11215873 (42.79 MB)\n",
            "Non-trainable params: 0 (0.00 Byte)\n",
            "_________________________________________________________________\n",
            "None\n"
          ]
        }
      ]
    },
    {
      "cell_type": "code",
      "source": [
        "history1 = model.fit(train_generator1, epochs=10, validation_data=test_generator)"
      ],
      "metadata": {
        "colab": {
          "base_uri": "https://localhost:8080/"
        },
        "id": "Xi6OiDvMVR31",
        "outputId": "03a4bed9-42a8-4263-e8d3-c6ead66d546f"
      },
      "execution_count": null,
      "outputs": [
        {
          "output_type": "stream",
          "name": "stdout",
          "text": [
            "Epoch 1/10\n",
            "80/80 [==============================] - 500s 6s/step - loss: 0.6947 - accuracy: 0.5552 - val_loss: 0.6543 - val_accuracy: 0.6396\n",
            "Epoch 2/10\n",
            "80/80 [==============================] - 7s 92ms/step - loss: 0.6113 - accuracy: 0.6964 - val_loss: 0.5404 - val_accuracy: 0.7843\n",
            "Epoch 3/10\n",
            "80/80 [==============================] - 8s 102ms/step - loss: 0.4937 - accuracy: 0.7729 - val_loss: 0.4903 - val_accuracy: 0.7665\n",
            "Epoch 4/10\n",
            "80/80 [==============================] - 8s 99ms/step - loss: 0.4311 - accuracy: 0.8105 - val_loss: 0.3916 - val_accuracy: 0.8325\n",
            "Epoch 5/10\n",
            "80/80 [==============================] - 8s 96ms/step - loss: 0.3551 - accuracy: 0.8620 - val_loss: 0.3602 - val_accuracy: 0.8503\n",
            "Epoch 6/10\n",
            "80/80 [==============================] - 8s 103ms/step - loss: 0.3235 - accuracy: 0.8783 - val_loss: 0.3388 - val_accuracy: 0.8553\n",
            "Epoch 7/10\n",
            "80/80 [==============================] - 9s 112ms/step - loss: 0.2894 - accuracy: 0.8827 - val_loss: 0.3334 - val_accuracy: 0.8503\n",
            "Epoch 8/10\n",
            "80/80 [==============================] - 7s 92ms/step - loss: 0.2523 - accuracy: 0.9053 - val_loss: 0.3145 - val_accuracy: 0.8655\n",
            "Epoch 9/10\n",
            "80/80 [==============================] - 8s 103ms/step - loss: 0.2240 - accuracy: 0.9191 - val_loss: 0.2943 - val_accuracy: 0.8832\n",
            "Epoch 10/10\n",
            "80/80 [==============================] - 8s 94ms/step - loss: 0.2045 - accuracy: 0.9203 - val_loss: 0.2854 - val_accuracy: 0.8807\n"
          ]
        }
      ]
    },
    {
      "cell_type": "code",
      "source": [
        "import statistics"
      ],
      "metadata": {
        "id": "AmmOI78HXIbn"
      },
      "execution_count": null,
      "outputs": []
    },
    {
      "cell_type": "code",
      "source": [
        "statistics.median(history1.history['accuracy'])"
      ],
      "metadata": {
        "colab": {
          "base_uri": "https://localhost:8080/"
        },
        "id": "fVohtAr9WrE4",
        "outputId": "7ea7b503-d879-4317-a94f-21cbb7334ade"
      },
      "execution_count": null,
      "outputs": [
        {
          "output_type": "execute_result",
          "data": {
            "text/plain": [
              "0.8701379895210266"
            ]
          },
          "metadata": {},
          "execution_count": 17
        }
      ]
    },
    {
      "cell_type": "code",
      "source": [
        "statistics.median(history1.history['val_accuracy'])"
      ],
      "metadata": {
        "colab": {
          "base_uri": "https://localhost:8080/"
        },
        "id": "lD3GEE3uXL3j",
        "outputId": "893060ac-37d8-4e47-ad95-8c7e16838ae9"
      },
      "execution_count": null,
      "outputs": [
        {
          "output_type": "execute_result",
          "data": {
            "text/plain": [
              "0.8502538204193115"
            ]
          },
          "metadata": {},
          "execution_count": 18
        }
      ]
    },
    {
      "cell_type": "code",
      "source": [
        "statistics.stdev(history1.history['loss'])"
      ],
      "metadata": {
        "colab": {
          "base_uri": "https://localhost:8080/"
        },
        "id": "j1QYzATEXd8d",
        "outputId": "659f2ed2-26c4-4e71-a8dd-48c55a658bcb"
      },
      "execution_count": null,
      "outputs": [
        {
          "output_type": "execute_result",
          "data": {
            "text/plain": [
              "0.16696206515557557"
            ]
          },
          "metadata": {},
          "execution_count": 19
        }
      ]
    },
    {
      "cell_type": "code",
      "source": [
        "statistics.stdev(history1.history['val_loss'])"
      ],
      "metadata": {
        "colab": {
          "base_uri": "https://localhost:8080/"
        },
        "id": "7i0k9ADXXeZ2",
        "outputId": "c48a5da9-afbf-43c8-928d-21459c11aad2"
      },
      "execution_count": null,
      "outputs": [
        {
          "output_type": "execute_result",
          "data": {
            "text/plain": [
              "0.12200817310993367"
            ]
          },
          "metadata": {},
          "execution_count": 20
        }
      ]
    },
    {
      "cell_type": "code",
      "source": [
        "train_gen2 = ImageDataGenerator(\n",
        "    rescale=1./255,\n",
        "    rotation_range=40,\n",
        "    width_shift_range=0.2,\n",
        "    height_shift_range=0.2,\n",
        "    shear_range=0.2,\n",
        "    zoom_range=0.2,\n",
        "    horizontal_flip=True,\n",
        "    fill_mode='nearest'\n",
        ")\n",
        "\n",
        "train_generator2 = train_gen2.flow_from_directory(\n",
        "    '/content/drive/MyDrive/HW8_AI_Kamilya/train',\n",
        "    target_size=(150, 150),\n",
        "    batch_size=20,\n",
        "    shuffle=True,\n",
        "    class_mode='binary'\n",
        ")"
      ],
      "metadata": {
        "id": "FYnha54uM5zs",
        "colab": {
          "base_uri": "https://localhost:8080/"
        },
        "outputId": "0fe93919-b032-4b8d-cf3b-0684827dc18e"
      },
      "execution_count": null,
      "outputs": [
        {
          "output_type": "stream",
          "name": "stdout",
          "text": [
            "Found 1594 images belonging to 2 classes.\n"
          ]
        }
      ]
    },
    {
      "cell_type": "code",
      "source": [
        "history2 = model.fit(train_generator2, epochs=10, validation_data=test_generator)"
      ],
      "metadata": {
        "id": "rf4qPSOqM5lc",
        "colab": {
          "base_uri": "https://localhost:8080/"
        },
        "outputId": "8947dc63-3bd9-4a0d-cf75-df223c462b1c"
      },
      "execution_count": null,
      "outputs": [
        {
          "output_type": "stream",
          "name": "stdout",
          "text": [
            "Epoch 1/10\n",
            "80/80 [==============================] - 17s 210ms/step - loss: 0.4356 - accuracy: 0.8018 - val_loss: 0.4059 - val_accuracy: 0.8122\n",
            "Epoch 2/10\n",
            "80/80 [==============================] - 16s 205ms/step - loss: 0.4092 - accuracy: 0.8130 - val_loss: 0.6995 - val_accuracy: 0.6878\n",
            "Epoch 3/10\n",
            "80/80 [==============================] - 17s 207ms/step - loss: 0.4239 - accuracy: 0.7999 - val_loss: 0.3784 - val_accuracy: 0.8376\n",
            "Epoch 4/10\n",
            "80/80 [==============================] - 16s 202ms/step - loss: 0.4042 - accuracy: 0.8243 - val_loss: 0.2831 - val_accuracy: 0.8731\n",
            "Epoch 5/10\n",
            "80/80 [==============================] - 16s 200ms/step - loss: 0.4085 - accuracy: 0.8061 - val_loss: 0.4439 - val_accuracy: 0.7944\n",
            "Epoch 6/10\n",
            "80/80 [==============================] - 18s 221ms/step - loss: 0.3625 - accuracy: 0.8381 - val_loss: 0.4546 - val_accuracy: 0.8046\n",
            "Epoch 7/10\n",
            "80/80 [==============================] - 16s 201ms/step - loss: 0.3695 - accuracy: 0.8413 - val_loss: 0.4778 - val_accuracy: 0.7995\n",
            "Epoch 8/10\n",
            "80/80 [==============================] - 16s 203ms/step - loss: 0.3534 - accuracy: 0.8538 - val_loss: 0.2595 - val_accuracy: 0.8883\n",
            "Epoch 9/10\n",
            "80/80 [==============================] - 17s 211ms/step - loss: 0.3748 - accuracy: 0.8425 - val_loss: 0.4408 - val_accuracy: 0.8223\n",
            "Epoch 10/10\n",
            "80/80 [==============================] - 16s 207ms/step - loss: 0.3489 - accuracy: 0.8538 - val_loss: 0.3964 - val_accuracy: 0.8274\n"
          ]
        }
      ]
    },
    {
      "cell_type": "code",
      "source": [
        "statistics.mean(history2.history['val_loss'])"
      ],
      "metadata": {
        "colab": {
          "base_uri": "https://localhost:8080/"
        },
        "id": "krxqrs94PsSU",
        "outputId": "be6c9dcc-4c7b-40e0-99a7-f7a6a7da9312"
      },
      "execution_count": null,
      "outputs": [
        {
          "output_type": "execute_result",
          "data": {
            "text/plain": [
              "0.42398549020290377"
            ]
          },
          "metadata": {},
          "execution_count": 23
        }
      ]
    },
    {
      "cell_type": "code",
      "source": [
        "statistics.mean(history2.history['val_accuracy'][5:10])"
      ],
      "metadata": {
        "colab": {
          "base_uri": "https://localhost:8080/"
        },
        "id": "jy7gSB6nPsAx",
        "outputId": "f560ce89-058f-4345-b742-85a296d867d8"
      },
      "execution_count": null,
      "outputs": [
        {
          "output_type": "execute_result",
          "data": {
            "text/plain": [
              "0.8284263849258423"
            ]
          },
          "metadata": {},
          "execution_count": 24
        }
      ]
    },
    {
      "cell_type": "code",
      "source": [],
      "metadata": {
        "id": "fqm5PE9lSh0M"
      },
      "execution_count": null,
      "outputs": []
    }
  ]
}